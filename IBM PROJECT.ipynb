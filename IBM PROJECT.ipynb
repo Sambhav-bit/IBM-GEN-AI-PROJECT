{
 "cells": [
  {
   "cell_type": "code",
   "execution_count": 40,
   "metadata": {
    "colab": {
     "base_uri": "https://localhost:8080/"
    },
    "executionInfo": {
     "elapsed": 42,
     "status": "ok",
     "timestamp": 1751044562560,
     "user": {
      "displayName": "Sambhav Shah",
      "userId": "06883552164165829763"
     },
     "user_tz": -330
    },
    "id": "YHHS6EmKO4Xa",
    "outputId": "3068c316-b9f6-4774-af59-f47f4de777ff"
   },
   "outputs": [
    {
     "name": "stdout",
     "output_type": "stream",
     "text": [
      "Generated 150 reviews.\n"
     ]
    }
   ],
   "source": [
    "import pandas as pd\n",
    "import random\n",
    "\n",
    "business_areas = {\n",
    "    \"Delivery Service\": [\"late delivery\", \"on-time delivery\", \"delivery delay\", \"early delivery\"],\n",
    "    \"Car Condition\": [\"dirty car\", \"clean car\", \"engine issues\", \"flat tire\", \"scratches\"],\n",
    "    \"Pricing and Booking\": [\"hidden fees\", \"transparent pricing\", \"smooth booking\", \"price too high\", \"extra charges\"],\n",
    "    \"Customer Support\": [\"rude staff\", \"helpful support\", \"slow response\", \"great support\"],\n",
    "    \"Other\": [\"fuel policy unclear\", \"GPS not working\", \"mobile app glitch\"]\n",
    "}\n",
    "\n",
    "# Sample sentiments\n",
    "templates = {\n",
    "    \"Positive\": [\"was good\", \"was excellent\", \"was very satisfactory\", \"met my expectations\"],\n",
    "    \"Negative\": [\"was bad\", \"was late\", \"was disappointing\", \"was unacceptable\"]\n",
    "}\n",
    "\n",
    "reviews = []\n",
    "for area, issues in business_areas.items():\n",
    "    for _ in range(30):  # ~150 reviews → 5 areas × 30 = 150\n",
    "        issue = random.choice(issues)\n",
    "        sentiment = random.choice(list(templates.keys()))\n",
    "        remark = random.choice(templates[sentiment])\n",
    "        reviews.append(f\"The {issue} {remark}.\")\n",
    "\n",
    "# Build DataFrame\n",
    "df = pd.DataFrame({\"Review\": reviews})\n",
    "df.to_csv(\"car_rental_feedback.csv\", index=False)\n",
    "print(\"Generated 150 reviews.\")\n"
   ]
  },
  {
   "cell_type": "code",
   "execution_count": 41,
   "metadata": {
    "colab": {
     "base_uri": "https://localhost:8080/"
    },
    "executionInfo": {
     "elapsed": 7542,
     "status": "ok",
     "timestamp": 1751044583170,
     "user": {
      "displayName": "Sambhav Shah",
      "userId": "06883552164165829763"
     },
     "user_tz": -330
    },
    "id": "CbnaQZYqRd4M",
    "outputId": "b76ab53a-d4b9-4657-8608-ce420a4a90f8"
   },
   "outputs": [
    {
     "name": "stdout",
     "output_type": "stream",
     "text": [
      "Requirement already satisfied: ibm-watson-machine-learning in /usr/local/lib/python3.11/dist-packages (1.0.368)\n",
      "Requirement already satisfied: pandas in /usr/local/lib/python3.11/dist-packages (2.1.4)\n",
      "Requirement already satisfied: matplotlib in /usr/local/lib/python3.11/dist-packages (3.10.0)\n",
      "Requirement already satisfied: requests in /usr/local/lib/python3.11/dist-packages (from ibm-watson-machine-learning) (2.32.4)\n",
      "Requirement already satisfied: urllib3 in /usr/local/lib/python3.11/dist-packages (from ibm-watson-machine-learning) (2.4.0)\n",
      "Requirement already satisfied: certifi in /usr/local/lib/python3.11/dist-packages (from ibm-watson-machine-learning) (2025.6.15)\n",
      "Requirement already satisfied: lomond in /usr/local/lib/python3.11/dist-packages (from ibm-watson-machine-learning) (0.3.3)\n",
      "Requirement already satisfied: tabulate in /usr/local/lib/python3.11/dist-packages (from ibm-watson-machine-learning) (0.9.0)\n",
      "Requirement already satisfied: packaging in /usr/local/lib/python3.11/dist-packages (from ibm-watson-machine-learning) (24.2)\n",
      "Requirement already satisfied: ibm-cos-sdk<2.15.0,>=2.12.0 in /usr/local/lib/python3.11/dist-packages (from ibm-watson-machine-learning) (2.14.2)\n",
      "Requirement already satisfied: importlib-metadata in /usr/local/lib/python3.11/dist-packages (from ibm-watson-machine-learning) (8.7.0)\n",
      "Requirement already satisfied: numpy<2,>=1.23.2 in /usr/local/lib/python3.11/dist-packages (from pandas) (1.26.4)\n",
      "Requirement already satisfied: python-dateutil>=2.8.2 in /usr/local/lib/python3.11/dist-packages (from pandas) (2.9.0.post0)\n",
      "Requirement already satisfied: pytz>=2020.1 in /usr/local/lib/python3.11/dist-packages (from pandas) (2025.2)\n",
      "Requirement already satisfied: tzdata>=2022.1 in /usr/local/lib/python3.11/dist-packages (from pandas) (2025.2)\n",
      "Requirement already satisfied: contourpy>=1.0.1 in /usr/local/lib/python3.11/dist-packages (from matplotlib) (1.3.2)\n",
      "Requirement already satisfied: cycler>=0.10 in /usr/local/lib/python3.11/dist-packages (from matplotlib) (0.12.1)\n",
      "Requirement already satisfied: fonttools>=4.22.0 in /usr/local/lib/python3.11/dist-packages (from matplotlib) (4.58.4)\n",
      "Requirement already satisfied: kiwisolver>=1.3.1 in /usr/local/lib/python3.11/dist-packages (from matplotlib) (1.4.8)\n",
      "Requirement already satisfied: pillow>=8 in /usr/local/lib/python3.11/dist-packages (from matplotlib) (11.2.1)\n",
      "Requirement already satisfied: pyparsing>=2.3.1 in /usr/local/lib/python3.11/dist-packages (from matplotlib) (3.2.3)\n",
      "Requirement already satisfied: ibm-cos-sdk-core==2.14.2 in /usr/local/lib/python3.11/dist-packages (from ibm-cos-sdk<2.15.0,>=2.12.0->ibm-watson-machine-learning) (2.14.2)\n",
      "Requirement already satisfied: ibm-cos-sdk-s3transfer==2.14.2 in /usr/local/lib/python3.11/dist-packages (from ibm-cos-sdk<2.15.0,>=2.12.0->ibm-watson-machine-learning) (2.14.2)\n",
      "Requirement already satisfied: jmespath<=1.0.1,>=0.10.0 in /usr/local/lib/python3.11/dist-packages (from ibm-cos-sdk<2.15.0,>=2.12.0->ibm-watson-machine-learning) (1.0.1)\n",
      "Requirement already satisfied: six>=1.5 in /usr/local/lib/python3.11/dist-packages (from python-dateutil>=2.8.2->pandas) (1.17.0)\n",
      "Requirement already satisfied: charset_normalizer<4,>=2 in /usr/local/lib/python3.11/dist-packages (from requests->ibm-watson-machine-learning) (3.4.2)\n",
      "Requirement already satisfied: idna<4,>=2.5 in /usr/local/lib/python3.11/dist-packages (from requests->ibm-watson-machine-learning) (3.10)\n",
      "Requirement already satisfied: zipp>=3.20 in /usr/local/lib/python3.11/dist-packages (from importlib-metadata->ibm-watson-machine-learning) (3.23.0)\n"
     ]
    }
   ],
   "source": [
    "#STEP 1\n",
    "!pip install ibm-watson-machine-learning pandas matplotlib\n"
   ]
  },
  {
   "cell_type": "code",
   "execution_count": 42,
   "metadata": {
    "executionInfo": {
     "elapsed": 5,
     "status": "ok",
     "timestamp": 1751044583172,
     "user": {
      "displayName": "Sambhav Shah",
      "userId": "06883552164165829763"
     },
     "user_tz": -330
    },
    "id": "xjJm91PeRd1y"
   },
   "outputs": [],
   "source": [
    "#Step 2\n",
    "import pandas as pd\n",
    "import matplotlib.pyplot as plt\n",
    "import time\n",
    "import os, getpass\n",
    "from ibm_watson_machine_learning.foundation_models import Model\n",
    "from ibm_watson_machine_learning.metanames import GenTextParamsMetaNames as GenParams\n"
   ]
  },
  {
   "cell_type": "code",
   "execution_count": 43,
   "metadata": {
    "colab": {
     "base_uri": "https://localhost:8080/"
    },
    "executionInfo": {
     "elapsed": 50751,
     "status": "ok",
     "timestamp": 1751044639775,
     "user": {
      "displayName": "Sambhav Shah",
      "userId": "06883552164165829763"
     },
     "user_tz": -330
    },
    "id": "J5GcjbFvSbdq",
    "outputId": "bfacd856-fa1d-4020-a0a9-40f0b41dc5ce"
   },
   "outputs": [
    {
     "name": "stdout",
     "output_type": "stream",
     "text": [
      "Enter your IBM Cloud API key: ··········\n",
      "Enter your Watsonx.ai Project ID: 672951b6-1af4-4d85-8019-b0680175c591\n"
     ]
    }
   ],
   "source": [
    "#Step 3\n",
    "credentials = {\n",
    "    \"url\": \"https://us-south.ml.cloud.ibm.com\",\n",
    "    \"apikey\": getpass.getpass(\"Enter your IBM Cloud API key: \")\n",
    "}\n",
    "\n",
    "# 🔍 Step 2: Get Project ID from env or input\n",
    "try:\n",
    "    project_id = os.environ[\"PROJECT_ID\"]\n",
    "except KeyError:\n",
    "    project_id = input(\"Enter your Watsonx.ai Project ID: \")\n"
   ]
  },
  {
   "cell_type": "code",
   "execution_count": 44,
   "metadata": {
    "executionInfo": {
     "elapsed": 1571,
     "status": "ok",
     "timestamp": 1751044644177,
     "user": {
      "displayName": "Sambhav Shah",
      "userId": "06883552164165829763"
     },
     "user_tz": -330
    },
    "id": "JkaRzeW7SrHz"
   },
   "outputs": [],
   "source": [
    "#Step 4\n",
    "model = Model(\n",
    "    model_id=\"mistralai/mistral-large\",\n",
    "    credentials=credentials,\n",
    "    project_id=project_id\n",
    ")\n"
   ]
  },
  {
   "cell_type": "code",
   "execution_count": 45,
   "metadata": {
    "colab": {
     "base_uri": "https://localhost:8080/"
    },
    "executionInfo": {
     "elapsed": 25,
     "status": "ok",
     "timestamp": 1751044645338,
     "user": {
      "displayName": "Sambhav Shah",
      "userId": "06883552164165829763"
     },
     "user_tz": -330
    },
    "id": "FAa6xotSSrFT",
    "outputId": "b12563d3-0a05-4c93-e848-f444545978c3"
   },
   "outputs": [
    {
     "name": "stdout",
     "output_type": "stream",
     "text": [
      "Loaded 150 reviews.\n"
     ]
    }
   ],
   "source": [
    "#Step 5\n",
    "df = pd.read_csv(\"car_rental_feedback.csv\")\n",
    "print(\"Loaded\", len(df), \"reviews.\")\n"
   ]
  },
  {
   "cell_type": "code",
   "execution_count": 46,
   "metadata": {
    "executionInfo": {
     "elapsed": 7,
     "status": "ok",
     "timestamp": 1751044696654,
     "user": {
      "displayName": "Sambhav Shah",
      "userId": "06883552164165829763"
     },
     "user_tz": -330
    },
    "id": "7pYLMdMZZaBT"
   },
   "outputs": [],
   "source": [
    "#Step 6\n",
    "def make_prompt(review):\n",
    "    return f\"\"\"\n",
    "You are an intelligent assistant that analyzes customer feedback.\n",
    "\n",
    "Review: \"{review}\"\n",
    "\n",
    "Identify the following:\n",
    "1. Sentiment (Positive / Negative / Neutral)\n",
    "2. Issue(s) mentioned (e.g., late delivery, dirty car, rude staff)\n",
    "3. Business Area: Choose one of [\"Car Condition\", \"Delivery Service\", \"Customer Support\", \"Pricing\", \"Other\"]\n",
    "\n",
    "Answer in this format:\n",
    "Sentiment: <sentiment>\n",
    "Issues: <comma-separated list of issues>\n",
    "Business Area: <area>\n",
    "\"\"\""
   ]
  },
  {
   "cell_type": "code",
   "execution_count": 47,
   "metadata": {
    "colab": {
     "base_uri": "https://localhost:8080/"
    },
    "executionInfo": {
     "elapsed": 200130,
     "status": "ok",
     "timestamp": 1751044928555,
     "user": {
      "displayName": "Sambhav Shah",
      "userId": "06883552164165829763"
     },
     "user_tz": -330
    },
    "id": "s6cqppl4SrAD",
    "outputId": "f2aa19ce-4fc8-4f13-b4cd-cd27ae4a2513"
   },
   "outputs": [
    {
     "name": "stdout",
     "output_type": "stream",
     "text": [
      "⏳ Processing 1/150...\n",
      "⏳ Processing 2/150...\n",
      "⏳ Processing 3/150...\n",
      "⏳ Processing 4/150...\n",
      "⏳ Processing 5/150...\n",
      "⏳ Processing 6/150...\n",
      "⏳ Processing 7/150...\n",
      "⏳ Processing 8/150...\n",
      "⏳ Processing 9/150...\n",
      "⏳ Processing 10/150...\n",
      "⏳ Processing 11/150...\n",
      "⏳ Processing 12/150...\n",
      "⏳ Processing 13/150...\n",
      "⏳ Processing 14/150...\n",
      "⏳ Processing 15/150...\n",
      "⏳ Processing 16/150...\n",
      "⏳ Processing 17/150...\n",
      "⏳ Processing 18/150...\n",
      "⏳ Processing 19/150...\n",
      "⏳ Processing 20/150...\n",
      "⏳ Processing 21/150...\n",
      "⏳ Processing 22/150...\n",
      "⏳ Processing 23/150...\n",
      "⏳ Processing 24/150...\n",
      "⏳ Processing 25/150...\n",
      "⏳ Processing 26/150...\n",
      "⏳ Processing 27/150...\n",
      "⏳ Processing 28/150...\n",
      "⏳ Processing 29/150...\n",
      "⏳ Processing 30/150...\n",
      "⏳ Processing 31/150...\n",
      "⏳ Processing 32/150...\n",
      "⏳ Processing 33/150...\n",
      "⏳ Processing 34/150...\n",
      "⏳ Processing 35/150...\n",
      "⏳ Processing 36/150...\n",
      "⏳ Processing 37/150...\n",
      "⏳ Processing 38/150...\n",
      "⏳ Processing 39/150...\n",
      "⏳ Processing 40/150...\n",
      "⏳ Processing 41/150...\n",
      "⏳ Processing 42/150...\n",
      "⏳ Processing 43/150...\n",
      "⏳ Processing 44/150...\n",
      "⏳ Processing 45/150...\n",
      "⏳ Processing 46/150...\n",
      "⏳ Processing 47/150...\n",
      "⏳ Processing 48/150...\n",
      "⏳ Processing 49/150...\n",
      "⏳ Processing 50/150...\n",
      "⏳ Processing 51/150...\n",
      "⏳ Processing 52/150...\n",
      "⏳ Processing 53/150...\n",
      "⏳ Processing 54/150...\n",
      "⏳ Processing 55/150...\n",
      "⏳ Processing 56/150...\n",
      "⏳ Processing 57/150...\n",
      "⏳ Processing 58/150...\n",
      "⏳ Processing 59/150...\n",
      "⏳ Processing 60/150...\n",
      "⏳ Processing 61/150...\n",
      "⏳ Processing 62/150...\n",
      "⏳ Processing 63/150...\n",
      "⏳ Processing 64/150...\n",
      "⏳ Processing 65/150...\n",
      "⏳ Processing 66/150...\n",
      "⏳ Processing 67/150...\n",
      "⏳ Processing 68/150...\n",
      "⏳ Processing 69/150...\n",
      "⏳ Processing 70/150...\n",
      "⏳ Processing 71/150...\n",
      "⏳ Processing 72/150...\n",
      "⏳ Processing 73/150...\n",
      "⏳ Processing 74/150...\n",
      "⏳ Processing 75/150...\n",
      "⏳ Processing 76/150...\n",
      "⏳ Processing 77/150...\n",
      "⏳ Processing 78/150...\n",
      "⏳ Processing 79/150...\n",
      "⏳ Processing 80/150...\n",
      "⏳ Processing 81/150...\n",
      "⏳ Processing 82/150...\n",
      "⏳ Processing 83/150...\n",
      "⏳ Processing 84/150...\n",
      "⏳ Processing 85/150...\n",
      "⏳ Processing 86/150...\n",
      "⏳ Processing 87/150...\n",
      "⏳ Processing 88/150...\n",
      "⏳ Processing 89/150...\n",
      "⏳ Processing 90/150...\n",
      "⏳ Processing 91/150...\n",
      "⏳ Processing 92/150...\n",
      "⏳ Processing 93/150...\n",
      "⏳ Processing 94/150...\n",
      "⏳ Processing 95/150...\n",
      "⏳ Processing 96/150...\n",
      "⏳ Processing 97/150...\n",
      "⏳ Processing 98/150...\n",
      "⏳ Processing 99/150...\n",
      "⏳ Processing 100/150...\n",
      "⏳ Processing 101/150...\n",
      "⏳ Processing 102/150...\n",
      "⏳ Processing 103/150...\n",
      "⏳ Processing 104/150...\n",
      "⏳ Processing 105/150...\n",
      "⏳ Processing 106/150...\n",
      "⏳ Processing 107/150...\n",
      "⏳ Processing 108/150...\n",
      "⏳ Processing 109/150...\n",
      "⏳ Processing 110/150...\n",
      "⏳ Processing 111/150...\n",
      "⏳ Processing 112/150...\n",
      "⏳ Processing 113/150...\n",
      "⏳ Processing 114/150...\n",
      "⏳ Processing 115/150...\n",
      "⏳ Processing 116/150...\n",
      "⏳ Processing 117/150...\n",
      "⏳ Processing 118/150...\n",
      "⏳ Processing 119/150...\n",
      "⏳ Processing 120/150...\n",
      "⏳ Processing 121/150...\n",
      "⏳ Processing 122/150...\n",
      "⏳ Processing 123/150...\n",
      "⏳ Processing 124/150...\n",
      "⏳ Processing 125/150...\n",
      "⏳ Processing 126/150...\n",
      "⏳ Processing 127/150...\n",
      "⏳ Processing 128/150...\n",
      "⏳ Processing 129/150...\n",
      "⏳ Processing 130/150...\n",
      "⏳ Processing 131/150...\n",
      "⏳ Processing 132/150...\n",
      "⏳ Processing 133/150...\n",
      "⏳ Processing 134/150...\n",
      "⏳ Processing 135/150...\n",
      "⏳ Processing 136/150...\n",
      "⏳ Processing 137/150...\n",
      "⏳ Processing 138/150...\n",
      "⏳ Processing 139/150...\n",
      "⏳ Processing 140/150...\n",
      "⏳ Processing 141/150...\n",
      "⏳ Processing 142/150...\n",
      "⏳ Processing 143/150...\n",
      "⏳ Processing 144/150...\n",
      "⏳ Processing 145/150...\n",
      "⏳ Processing 146/150...\n",
      "⏳ Processing 147/150...\n",
      "⏳ Processing 148/150...\n",
      "⏳ Processing 149/150...\n",
      "⏳ Processing 150/150...\n"
     ]
    }
   ],
   "source": [
    "#Step 7\n",
    "sentiments = []\n",
    "issues = []\n",
    "business_areas = []\n",
    "\n",
    "for i, review in enumerate(df[\"Review\"], 1):\n",
    "    print(f\"⏳ Processing {i}/{len(df)}...\")\n",
    "    prompt = make_prompt(review)\n",
    "    response = model.generate(prompt=prompt, params={GenParams.MAX_NEW_TOKENS: 150})\n",
    "    output = response['results'][0]['generated_text'].strip()\n",
    "\n",
    "    try:\n",
    "        lines = output.splitlines()\n",
    "        sentiment = lines[0].replace(\"Sentiment:\", \"\").strip()\n",
    "        issue = lines[1].replace(\"Issues:\", \"\").strip()\n",
    "        area = lines[2].replace(\"Business Area:\", \"\").strip()\n",
    "    except:\n",
    "        sentiment = \"Unknown\"\n",
    "        issue = \"Unknown\"\n",
    "        area = \"Unknown\"\n",
    "\n",
    "    sentiments.append(sentiment)\n",
    "    issues.append(issue)\n",
    "    business_areas.append(area)\n",
    "    time.sleep(0.5)"
   ]
  },
  {
   "cell_type": "code",
   "execution_count": 48,
   "metadata": {
    "colab": {
     "base_uri": "https://localhost:8080/"
    },
    "executionInfo": {
     "elapsed": 8,
     "status": "ok",
     "timestamp": 1751044928561,
     "user": {
      "displayName": "Sambhav Shah",
      "userId": "06883552164165829763"
     },
     "user_tz": -330
    },
    "id": "Tmn642XjSq9i",
    "outputId": "9705594c-8f64-4518-fe54-a9f79e043f24"
   },
   "outputs": [
    {
     "name": "stdout",
     "output_type": "stream",
     "text": [
      "✅ Results saved to feedback_analysis_results.csv\n"
     ]
    }
   ],
   "source": [
    "#step 8\n",
    "df[\"Sentiment\"] = sentiments\n",
    "df[\"Issues\"] = issues\n",
    "df[\"Business Area\"] = business_areas\n",
    "df.to_csv(\"feedback_analysis_results.csv\", index=False)\n",
    "print(\"✅ Results saved to feedback_analysis_results.csv\")\n"
   ]
  },
  {
   "cell_type": "code",
   "execution_count": 49,
   "metadata": {
    "colab": {
     "base_uri": "https://localhost:8080/",
     "height": 520
    },
    "executionInfo": {
     "elapsed": 606,
     "status": "ok",
     "timestamp": 1751044929177,
     "user": {
      "displayName": "Sambhav Shah",
      "userId": "06883552164165829763"
     },
     "user_tz": -330
    },
    "id": "hhspQZOmSq66",
    "outputId": "0d4b02bd-9a68-43f9-9ec3-1053a1c9fe4f"
   },
   "outputs": [
    {
     "data": {
      "image/png": "[encoded data removed]",
      "text/plain": [
       "<Figure size 640x480 with 1 Axes>"
      ]
     },
     "metadata": {},
     "output_type": "display_data"
    }
   ],
   "source": [
    "#Step 9\n",
    "df[\"Sentiment\"].value_counts().plot(kind=\"bar\", color=[\"green\", \"red\", \"gray\"])\n",
    "plt.title(\"Sentiment Distribution\")\n",
    "plt.xlabel(\"Sentiment\")\n",
    "plt.ylabel(\"Review Count\")\n",
    "plt.savefig(\"/content/sentiment_distribution.png\")\n",
    "plt.show()\n"
   ]
  },
  {
   "cell_type": "code",
   "execution_count": 50,
   "metadata": {
    "colab": {
     "base_uri": "https://localhost:8080/",
     "height": 487
    },
    "executionInfo": {
     "elapsed": 458,
     "status": "ok",
     "timestamp": 1751044929637,
     "user": {
      "displayName": "Sambhav Shah",
      "userId": "06883552164165829763"
     },
     "user_tz": -330
    },
    "id": "I6birHvfSq4a",
    "outputId": "bdf33f02-edb1-4f3e-c0d2-ae8d1b1011d9"
   },
   "outputs": [
    {
     "data": {
      "image/png": "[encoded data removed]",
      "text/plain": [
       "<Figure size 640x480 with 1 Axes>"
      ]
     },
     "metadata": {},
     "output_type": "display_data"
    }
   ],
   "source": [
    "#Step 10\n",
    "issue_freq = df[\"Issues\"].str.lower().str.split(\", \").explode().value_counts()\n",
    "issue_freq.head(10).plot(kind=\"bar\", color=\"orange\")\n",
    "plt.title(\"Top 10 Issues Mentioned\")\n",
    "plt.xlabel(\"Issue\")\n",
    "plt.ylabel(\"Frequency\")\n",
    "plt.xticks(rotation=45, ha='right')\n",
    "plt.tight_layout()\n",
    "plt.savefig(\"/content/top_issues.png\")\n",
    "plt.show()\n"
   ]
  },
  {
   "cell_type": "code",
   "execution_count": 51,
   "metadata": {
    "colab": {
     "base_uri": "https://localhost:8080/",
     "height": 487
    },
    "executionInfo": {
     "elapsed": 314,
     "status": "ok",
     "timestamp": 1751044929960,
     "user": {
      "displayName": "Sambhav Shah",
      "userId": "06883552164165829763"
     },
     "user_tz": -330
    },
    "id": "1ZFrgavWSq1y",
    "outputId": "f3b46597-5746-4bd3-8d75-2034b8c5df87"
   },
   "outputs": [
    {
     "data": {
      "image/png": "[encoded data removed]",
      "text/plain": [
       "<Figure size 640x480 with 1 Axes>"
      ]
     },
     "metadata": {},
     "output_type": "display_data"
    }
   ],
   "source": [
    "# ✅ STEP 11: Plot business area breakdown\n",
    "df[\"Business Area\"].value_counts().plot(kind=\"barh\", color=\"skyblue\")\n",
    "plt.title(\"Distribution of Business Areas Mentioned\")\n",
    "plt.xlabel(\"Review Count\")\n",
    "plt.ylabel(\"Business Area\")\n",
    "plt.tight_layout()\n",
    "plt.savefig(\"/content/business_area_distribution.png\")\n",
    "plt.show()\n"
   ]
  },
  {
   "cell_type": "code",
   "execution_count": 52,
   "metadata": {
    "colab": {
     "base_uri": "https://localhost:8080/"
    },
    "executionInfo": {
     "elapsed": 19,
     "status": "ok",
     "timestamp": 1751044929980,
     "user": {
      "displayName": "Sambhav Shah",
      "userId": "06883552164165829763"
     },
     "user_tz": -330
    },
    "id": "Hp2DspgtZwQr",
    "outputId": "17d68d96-6d56-47ac-b2eb-e2bd2b57bf8f"
   },
   "outputs": [
    {
     "name": "stdout",
     "output_type": "stream",
     "text": [
      "Sentiment\n",
      "Negative    90\n",
      "Positive    56\n",
      "Neutral      4\n",
      "Name: count, dtype: int64\n",
      "Issues\n",
      "None                                  51\n",
      "late delivery                         18\n",
      "rude staff                             7\n",
      "dirty car                              6\n",
      "GPS not working                        6\n",
      "Extra charges                          5\n",
      "mobile app glitch                      5\n",
      "Unclear fuel policy                    4\n",
      "Scratches                              4\n",
      "Flat tire                              3\n",
      "app glitch                             3\n",
      "Late delivery                          3\n",
      "Transparent pricing                    3\n",
      "late                                   3\n",
      "Late support                           3\n",
      "Dirty car                              2\n",
      "rude staff, late delivery              2\n",
      "Unclear fuel policy, Late delivery     2\n",
      "Poor support                           2\n",
      "Slow response                          2\n",
      "early delivery                         2\n",
      "Late delivery, Slow response           2\n",
      "High price                             2\n",
      "Booking process                        2\n",
      "late delivery, dirty car               1\n",
      "Poor support experience                1\n",
      "Delivery delay                         1\n",
      "Hidden fees                            1\n",
      "GPS not working, late delivery         1\n",
      "Engine issues                          1\n",
      "Engine problems                        1\n",
      "Late extra charges                     1\n",
      "Name: count, dtype: int64\n",
      "Business Area\n",
      "Delivery Service                   40\n",
      "Car Condition                      34\n",
      "Customer Support                   29\n",
      "Pricing                            28\n",
      "Other                              18\n",
      "Car Condition, Delivery Service     1\n",
      "Name: count, dtype: int64\n"
     ]
    }
   ],
   "source": [
    "print(df[\"Sentiment\"].value_counts(dropna=False))\n",
    "print(df[\"Issues\"].value_counts(dropna=False))\n",
    "print(df[\"Business Area\"].value_counts(dropna=False))"
   ]
  },
  {
   "cell_type": "code",
   "execution_count": null,
   "metadata": {
    "executionInfo": {
     "elapsed": 11,
     "status": "ok",
     "timestamp": 1751042677850,
     "user": {
      "displayName": "Sambhav Shah",
      "userId": "06883552164165829763"
     },
     "user_tz": -330
    },
    "id": "mPpc2zbARdzC"
   },
   "outputs": [],
   "source": [
    "\n"
   ]
  }
 ],
 "metadata": {
  "colab": {
   "authorship_tag": "ABX9TyNnX9wvXqKnszIQgCjPmfMF",
   "provenance": []
  },
  "kernelspec": {
   "display_name": "Python 3",
   "name": "python3"
  },
  "language_info": {
   "name": "python"
  }
 },
 "nbformat": 4,
 "nbformat_minor": 0
}
